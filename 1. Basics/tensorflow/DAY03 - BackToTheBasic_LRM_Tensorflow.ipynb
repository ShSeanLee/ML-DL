{
 "cells": [
  {
   "cell_type": "markdown",
   "id": "9e5c4c65",
   "metadata": {},
   "source": [
    "!pip3 install pandas<br>\n",
    "!pip3 install numpy<br>\n",
    "!pip3 install matplotlib<br>\n",
    "!pip3 install statsmodels<br>"
   ]
  },
  {
   "cell_type": "code",
   "execution_count": 2,
   "id": "ac596566",
   "metadata": {},
   "outputs": [],
   "source": [
    "import tensorflow as tf\n",
    "import pandas as pd\n",
    "import numpy as np\n",
    "import matplotlib.pyplot as plt\n",
    "import statsmodels.api as sm\n",
    "\n",
    "from tensorflow.keras.models import Sequential, load_model\n",
    "from tensorflow.keras.layers import Dense\n",
    "from tensorflow.keras.optimizers import SGD, Adam"
   ]
  },
  {
   "cell_type": "markdown",
   "id": "b3a9b526",
   "metadata": {},
   "source": [
    "연속형 임의의 데이터 생성"
   ]
  },
  {
   "cell_type": "code",
   "execution_count": 3,
   "id": "2f066d8a",
   "metadata": {},
   "outputs": [],
   "source": [
    "np.random.seed(0)\n",
    "\n",
    "Temperature = np.random.normal(30,3,100)\n",
    "IceAmericano = Temperature + np.random.normal(100,8,100)"
   ]
  },
  {
   "cell_type": "markdown",
   "id": "569500e2",
   "metadata": {},
   "source": [
    "데이터 프레임 형태로 2개 데이터 합치기<br>"
   ]
  },
  {
   "cell_type": "code",
   "execution_count": 4,
   "id": "db19541d",
   "metadata": {},
   "outputs": [],
   "source": [
    "Data = pd.DataFrame({\n",
    "    'Temp':Temperature,\n",
    "    'Sales':IceAmericano\n",
    "})"
   ]
  },
  {
   "cell_type": "code",
   "execution_count": 5,
   "id": "bab9c9f7",
   "metadata": {},
   "outputs": [
    {
     "data": {
      "image/png": "[encoded data removed]",
      "text/plain": [
       "<Figure size 432x288 with 1 Axes>"
      ]
     },
     "metadata": {
      "needs_background": "light"
     },
     "output_type": "display_data"
    }
   ],
   "source": [
    "plt.plot(Data['Temp'], Data['Sales'], 'o')\n",
    "plt.show()"
   ]
  },
  {
   "cell_type": "markdown",
   "id": "d3aa1d78",
   "metadata": {},
   "source": [
    "선형회귀 모델, 딥러닝 framework (keras)로 만들기"
   ]
  },
  {
   "cell_type": "code",
   "execution_count": 7,
   "id": "f2722f6c",
   "metadata": {},
   "outputs": [],
   "source": [
    "model = Sequential()\n",
    "model.add(Dense(1, activation='linear', input_shape=(1,))) # Linear Model을 만들고자 1을 넣음\n",
    "\n",
    "model.compile(loss='mse',optimizer=Adam(learning_rate=0.5))"
   ]
  },
  {
   "cell_type": "code",
   "execution_count": 8,
   "id": "4072ba9c",
   "metadata": {
    "scrolled": true
   },
   "outputs": [
    {
     "name": "stdout",
     "output_type": "stream",
     "text": [
      "Model: \"sequential\"\n",
      "_________________________________________________________________\n",
      " Layer (type)                Output Shape              Param #   \n",
      "=================================================================\n",
      " dense (Dense)               (None, 1)                 2         \n",
      "                                                                 \n",
      "=================================================================\n",
      "Total params: 2\n",
      "Trainable params: 2\n",
      "Non-trainable params: 0\n",
      "_________________________________________________________________\n"
     ]
    }
   ],
   "source": [
    "model.summary()"
   ]
  },
  {
   "cell_type": "markdown",
   "id": "6b60c9fd",
   "metadata": {},
   "source": [
    "input이 몇개 일지는 None으로<br>\n",
    "Skin Cancer 사진 -> (None, 224, 224, 3)<br>\n",
    "x1~x20 독립변수 20개면 (None, 20)<br>\n",
    "\n",
    "독립변수 수 x1 = (None, 1)<br>\n",
    "독립변수 수 x1 ~ x20 = (None, 20)<br>\n",
    "Input형태: 사진 ~ x20 = (None, (224, 224, 3))<br>\n",
    "사진의 크기가 224 * 224 * 3 (Generator 알아서 Y, X 크기를 224로 맞춰줌)<br>"
   ]
  },
  {
   "cell_type": "code",
   "execution_count": 10,
   "id": "18dae18d",
   "metadata": {},
   "outputs": [
    {
     "name": "stdout",
     "output_type": "stream",
     "text": [
      "Epoch 1/40\n",
      "4/4 [==============================] - 0s 1ms/step - loss: 276.9100\n",
      "Epoch 2/40\n",
      "4/4 [==============================] - 0s 2ms/step - loss: 153.3467\n",
      "Epoch 3/40\n",
      "4/4 [==============================] - 0s 2ms/step - loss: 158.3990\n",
      "Epoch 4/40\n",
      "4/4 [==============================] - 0s 1ms/step - loss: 180.8381\n",
      "Epoch 5/40\n",
      "4/4 [==============================] - 0s 2ms/step - loss: 160.8930\n",
      "Epoch 6/40\n",
      "4/4 [==============================] - 0s 2ms/step - loss: 142.3189\n",
      "Epoch 7/40\n",
      "4/4 [==============================] - 0s 2ms/step - loss: 152.4319\n",
      "Epoch 8/40\n",
      "4/4 [==============================] - 0s 2ms/step - loss: 160.0801\n",
      "Epoch 9/40\n",
      "4/4 [==============================] - 0s 2ms/step - loss: 150.6953\n",
      "Epoch 10/40\n",
      "4/4 [==============================] - 0s 2ms/step - loss: 141.0278\n",
      "Epoch 11/40\n",
      "4/4 [==============================] - 0s 2ms/step - loss: 145.1349\n",
      "Epoch 12/40\n",
      "4/4 [==============================] - 0s 1ms/step - loss: 147.9068\n",
      "Epoch 13/40\n",
      "4/4 [==============================] - 0s 2ms/step - loss: 143.5602\n",
      "Epoch 14/40\n",
      "4/4 [==============================] - 0s 2ms/step - loss: 141.1585\n",
      "Epoch 15/40\n",
      "4/4 [==============================] - 0s 2ms/step - loss: 144.4745\n",
      "Epoch 16/40\n",
      "4/4 [==============================] - 0s 2ms/step - loss: 145.4998\n",
      "Epoch 17/40\n",
      "4/4 [==============================] - 0s 1ms/step - loss: 140.4879\n",
      "Epoch 18/40\n",
      "4/4 [==============================] - 0s 1ms/step - loss: 141.0568\n",
      "Epoch 19/40\n",
      "4/4 [==============================] - 0s 3ms/step - loss: 142.0184\n",
      "Epoch 20/40\n",
      "4/4 [==============================] - 0s 999us/step - loss: 141.8734\n",
      "Epoch 21/40\n",
      "4/4 [==============================] - 0s 2ms/step - loss: 140.7507\n",
      "Epoch 22/40\n",
      "4/4 [==============================] - 0s 2ms/step - loss: 142.3785\n",
      "Epoch 23/40\n",
      "4/4 [==============================] - 0s 1ms/step - loss: 140.8202\n",
      "Epoch 24/40\n",
      "4/4 [==============================] - 0s 1ms/step - loss: 141.3230\n",
      "Epoch 25/40\n",
      "4/4 [==============================] - 0s 2ms/step - loss: 140.5315\n",
      "Epoch 26/40\n",
      "4/4 [==============================] - 0s 2ms/step - loss: 140.4234\n",
      "Epoch 27/40\n",
      "4/4 [==============================] - 0s 2ms/step - loss: 140.3285\n",
      "Epoch 28/40\n",
      "4/4 [==============================] - 0s 2ms/step - loss: 140.1420\n",
      "Epoch 29/40\n",
      "4/4 [==============================] - 0s 2ms/step - loss: 141.0202\n",
      "Epoch 30/40\n",
      "4/4 [==============================] - 0s 1ms/step - loss: 141.6307\n",
      "Epoch 31/40\n",
      "4/4 [==============================] - 0s 1ms/step - loss: 142.5938\n",
      "Epoch 32/40\n",
      "4/4 [==============================] - 0s 2ms/step - loss: 142.4641\n",
      "Epoch 33/40\n",
      "4/4 [==============================] - 0s 2ms/step - loss: 141.4664\n",
      "Epoch 34/40\n",
      "4/4 [==============================] - 0s 2ms/step - loss: 141.0170\n",
      "Epoch 35/40\n",
      "4/4 [==============================] - 0s 2ms/step - loss: 139.8258\n",
      "Epoch 36/40\n",
      "4/4 [==============================] - 0s 2ms/step - loss: 141.9054\n",
      "Epoch 37/40\n",
      "4/4 [==============================] - 0s 2ms/step - loss: 141.4858\n",
      "Epoch 38/40\n",
      "4/4 [==============================] - 0s 1ms/step - loss: 140.2905\n",
      "Epoch 39/40\n",
      "4/4 [==============================] - 0s 3ms/step - loss: 141.7170\n",
      "Epoch 40/40\n",
      "4/4 [==============================] - 0s 1ms/step - loss: 138.9635\n"
     ]
    },
    {
     "data": {
      "text/plain": [
       "<keras.callbacks.History at 0x1c8729f5610>"
      ]
     },
     "execution_count": 10,
     "metadata": {},
     "output_type": "execute_result"
    }
   ],
   "source": [
    "model.fit(x=Data[['Temp']], y=Data[['Sales']], epochs=50, shuffle=True)"
   ]
  },
  {
   "cell_type": "code",
   "execution_count": 11,
   "id": "94372311",
   "metadata": {},
   "outputs": [
    {
     "data": {
      "text/plain": [
       "array([[149.54756 ],\n",
       "       [133.03262 ],\n",
       "       [140.03845 ],\n",
       "       [155.32146 ],\n",
       "       [150.80087 ],\n",
       "       [116.35373 ],\n",
       "       [139.69154 ],\n",
       "       [126.35452 ],\n",
       "       [126.937416],\n",
       "       [133.15906 ],\n",
       "       [129.93143 ],\n",
       "       [145.79655 ],\n",
       "       [137.40239 ],\n",
       "       [129.66057 ],\n",
       "       [133.56184 ],\n",
       "       [132.2276  ],\n",
       "       [146.27855 ],\n",
       "       [125.703064],\n",
       "       [131.97809 ],\n",
       "       [117.84531 ],\n",
       "       [ 97.273964],\n",
       "       [136.1017  ],\n",
       "       [138.6544  ],\n",
       "       [119.20063 ],\n",
       "       [155.67094 ],\n",
       "       [110.576836],\n",
       "       [128.74133 ],\n",
       "       [125.92071 ],\n",
       "       [146.74716 ],\n",
       "       [145.97922 ],\n",
       "       [130.06346 ],\n",
       "       [132.7663  ],\n",
       "       [117.43736 ],\n",
       "       [104.20247 ],\n",
       "       [123.97451 ],\n",
       "       [130.08043 ],\n",
       "       [143.08443 ],\n",
       "       [142.74646 ],\n",
       "       [123.49725 ],\n",
       "       [124.52677 ],\n",
       "       [115.490685],\n",
       "       [110.99274 ],\n",
       "       [107.5266  ],\n",
       "       [151.80852 ],\n",
       "       [122.016045],\n",
       "       [122.88277 ],\n",
       "       [113.01758 ],\n",
       "       [137.60161 ],\n",
       "       [108.64511 ],\n",
       "       [125.61125 ],\n",
       "       [117.34435 ],\n",
       "       [132.87212 ],\n",
       "       [122.00209 ],\n",
       "       [113.89138 ],\n",
       "       [127.84601 ],\n",
       "       [133.37378 ],\n",
       "       [128.99269 ],\n",
       "       [131.84978 ],\n",
       "       [120.50647 ],\n",
       "       [123.794945],\n",
       "       [120.044655],\n",
       "       [123.83355 ],\n",
       "       [118.34114 ],\n",
       "       [107.28428 ],\n",
       "       [130.33565 ],\n",
       "       [123.32223 ],\n",
       "       [108.44774 ],\n",
       "       [133.79092 ],\n",
       "       [117.20109 ],\n",
       "       [128.81624 ],\n",
       "       [137.01556 ],\n",
       "       [129.74907 ],\n",
       "       [141.98386 ],\n",
       "       [113.23517 ],\n",
       "       [133.05907 ],\n",
       "       [119.89513 ],\n",
       "       [117.643074],\n",
       "       [121.17816 ],\n",
       "       [124.41477 ],\n",
       "       [128.86734 ],\n",
       "       [114.07885 ],\n",
       "       [139.09506 ],\n",
       "       [133.8258  ],\n",
       "       [109.5854  ],\n",
       "       [146.208   ],\n",
       "       [151.14394 ],\n",
       "       [142.4607  ],\n",
       "       [126.008606],\n",
       "       [115.22188 ],\n",
       "       [140.95526 ],\n",
       "       [123.30532 ],\n",
       "       [142.98943 ],\n",
       "       [130.70918 ],\n",
       "       [140.01303 ],\n",
       "       [132.50238 ],\n",
       "       [136.7429  ],\n",
       "       [128.31439 ],\n",
       "       [149.81175 ],\n",
       "       [129.72398 ],\n",
       "       [133.05481 ]], dtype=float32)"
      ]
     },
     "execution_count": 11,
     "metadata": {},
     "output_type": "execute_result"
    }
   ],
   "source": [
    "model.predict(Data[['Temp']])"
   ]
  },
  {
   "cell_type": "code",
   "execution_count": 14,
   "id": "dda2d344",
   "metadata": {},
   "outputs": [
    {
     "data": {
      "image/png": "[encoded data removed]",
      "text/plain": [
       "<Figure size 432x288 with 1 Axes>"
      ]
     },
     "metadata": {
      "needs_background": "light"
     },
     "output_type": "display_data"
    }
   ],
   "source": [
    "plt.plot(Data['Temp'], Data['Sales'], 'o')\n",
    "plt.plot(Data['Temp'], model.predict(Data[['Temp']]))\n",
    "plt.show()"
   ]
  },
  {
   "cell_type": "code",
   "execution_count": null,
   "id": "1b089dc5",
   "metadata": {},
   "outputs": [],
   "source": []
  }
 ],
 "metadata": {
  "kernelspec": {
   "display_name": "Python 3 (ipykernel)",
   "language": "python",
   "name": "python3"
  },
  "language_info": {
   "codemirror_mode": {
    "name": "ipython",
    "version": 3
   },
   "file_extension": ".py",
   "mimetype": "text/x-python",
   "name": "python",
   "nbconvert_exporter": "python",
   "pygments_lexer": "ipython3",
   "version": "3.9.7"
  }
 },
 "nbformat": 4,
 "nbformat_minor": 5
}
