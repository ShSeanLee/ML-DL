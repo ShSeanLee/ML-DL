{
 "cells": [
  {
   "cell_type": "markdown",
   "id": "4c4212ca",
   "metadata": {},
   "source": [
    "!pip3 install pandas<br>\n",
    "!pip3 install numpy<br>\n",
    "!pip3 install matplotlib<br>\n",
    "!pip3 install statsmodels<br>"
   ]
  },
  {
   "cell_type": "code",
   "execution_count": 1,
   "id": "50689322",
   "metadata": {},
   "outputs": [],
   "source": [
    "import pandas as pd\n",
    "import numpy as np\n",
    "import matplotlib.pyplot as plt\n",
    "import statsmodels.api as sm"
   ]
  },
  {
   "cell_type": "markdown",
   "id": "18bfaf1e",
   "metadata": {},
   "source": [
    "연속형 임의의 데이터 생성"
   ]
  },
  {
   "cell_type": "code",
   "execution_count": 2,
   "id": "a03a4707",
   "metadata": {},
   "outputs": [],
   "source": [
    "np.random.seed(0)\n",
    "\n",
    "Temperature = np.random.normal(30,3,100)\n",
    "IceAmericano = Temperature + np.random.normal(100,8,100)\n",
    "InteriorPrice = np.random.normal(25,2,100)"
   ]
  },
  {
   "cell_type": "markdown",
   "id": "42ce7863",
   "metadata": {},
   "source": [
    "데이터 프레임 형태로 3개 데이터 합치기<br>"
   ]
  },
  {
   "cell_type": "code",
   "execution_count": 3,
   "id": "54813e64",
   "metadata": {},
   "outputs": [],
   "source": [
    "Data = pd.DataFrame({\n",
    "    'Temp':Temperature,\n",
    "    'Sales':IceAmericano,\n",
    "    'InteriorPrice':InteriorPrice\n",
    "})"
   ]
  },
  {
   "cell_type": "markdown",
   "id": "772528b5",
   "metadata": {},
   "source": [
    "Scatter plot으로 데이터 시각화 해보기"
   ]
  },
  {
   "cell_type": "code",
   "execution_count": 4,
   "id": "4f21489d",
   "metadata": {},
   "outputs": [
    {
     "data": {
      "image/png": "[encoded data removed]",
      "text/plain": [
       "<Figure size 432x288 with 1 Axes>"
      ]
     },
     "metadata": {
      "needs_background": "light"
     },
     "output_type": "display_data"
    }
   ],
   "source": [
    "plt.plot(Data['Temp'], Data['Sales'], 'o')\n",
    "plt.plot(Data['Temp'], Data['InteriorPrice'], 'o')\n",
    "plt.show()"
   ]
  },
  {
   "cell_type": "markdown",
   "id": "be6423cc",
   "metadata": {},
   "source": [
    "# 통계 기반 선형모델 학습 시작"
   ]
  },
  {
   "cell_type": "markdown",
   "id": "dd0b6ed5",
   "metadata": {},
   "source": [
    "선형 regression을 위해, y절편에 해당하는 constant (상수) 추가"
   ]
  },
  {
   "cell_type": "code",
   "execution_count": 5,
   "id": "0b113512",
   "metadata": {},
   "outputs": [
    {
     "name": "stdout",
     "output_type": "stream",
     "text": [
      "   const       Temp  InteriorPrice\n",
      "0    1.0  35.292157      24.261636\n",
      "1    1.0  31.200472      24.521242\n",
      "2    1.0  32.936214      27.199319\n",
      "3    1.0  36.722680      26.310527\n",
      "4    1.0  35.602674      26.280263\n"
     ]
    },
    {
     "name": "stderr",
     "output_type": "stream",
     "text": [
      "C:\\Users\\autot\\anaconda3\\lib\\site-packages\\statsmodels\\tsa\\tsatools.py:142: FutureWarning: In a future version of pandas all arguments of concat except for the argument 'objs' will be keyword-only\n",
      "  x = pd.concat(x[::order], 1)\n"
     ]
    }
   ],
   "source": [
    "import statsmodels.api as sm\n",
    "\n",
    "InputFeature = Data[ ['Temp', 'InteriorPrice'] ]\n",
    "InputFeature = sm.add_constant(InputFeature)\n",
    "\n",
    "print(InputFeature.head())"
   ]
  },
  {
   "cell_type": "markdown",
   "id": "6ef8a5b0",
   "metadata": {},
   "source": [
    "Linear regression 모델 학습"
   ]
  },
  {
   "cell_type": "code",
   "execution_count": 6,
   "id": "8c3c625d",
   "metadata": {},
   "outputs": [
    {
     "name": "stdout",
     "output_type": "stream",
     "text": [
      "const            86.554744\n",
      "Temp              1.295901\n",
      "InteriorPrice     0.207835\n",
      "dtype: float64\n"
     ]
    }
   ],
   "source": [
    "model = sm.OLS(\n",
    "    Data['Sales'],\n",
    "    InputFeature\n",
    ")\n",
    "\n",
    "model = model.fit()\n",
    "print(model.params)"
   ]
  },
  {
   "cell_type": "markdown",
   "id": "487a747d",
   "metadata": {},
   "source": [
    "# 모델 해석"
   ]
  },
  {
   "cell_type": "code",
   "execution_count": 7,
   "id": "fc10b4b2",
   "metadata": {},
   "outputs": [
    {
     "name": "stdout",
     "output_type": "stream",
     "text": [
      "                            OLS Regression Results                            \n",
      "==============================================================================\n",
      "Dep. Variable:                  Sales   R-squared:                       0.189\n",
      "Model:                            OLS   Adj. R-squared:                  0.172\n",
      "Method:                 Least Squares   F-statistic:                     11.31\n",
      "Date:                Wed, 20 Apr 2022   Prob (F-statistic):           3.84e-05\n",
      "Time:                        09:49:31   Log-Likelihood:                -352.50\n",
      "No. Observations:                 100   AIC:                             711.0\n",
      "Df Residuals:                      97   BIC:                             718.8\n",
      "Df Model:                           2                                         \n",
      "Covariance Type:            nonrobust                                         \n",
      "=================================================================================\n",
      "                    coef    std err          t      P>|t|      [0.025      0.975]\n",
      "---------------------------------------------------------------------------------\n",
      "const            86.5547     13.269      6.523      0.000      60.220     112.890\n",
      "Temp              1.2959      0.277      4.683      0.000       0.747       1.845\n",
      "InteriorPrice     0.2078      0.439      0.473      0.637      -0.664       1.080\n",
      "==============================================================================\n",
      "Omnibus:                        4.072   Durbin-Watson:                   1.983\n",
      "Prob(Omnibus):                  0.131   Jarque-Bera (JB):                2.674\n",
      "Skew:                           0.216   Prob(JB):                        0.263\n",
      "Kurtosis:                       2.325   Cond. No.                         624.\n",
      "==============================================================================\n",
      "\n",
      "Notes:\n",
      "[1] Standard Errors assume that the covariance matrix of the errors is correctly specified.\n"
     ]
    }
   ],
   "source": [
    "print( model.summary() )"
   ]
  },
  {
   "cell_type": "code",
   "execution_count": 12,
   "id": "40e551b0",
   "metadata": {},
   "outputs": [
    {
     "data": {
      "image/png": "[encoded data removed]",
      "text/plain": [
       "<Figure size 432x288 with 1 Axes>"
      ]
     },
     "metadata": {
      "needs_background": "light"
     },
     "output_type": "display_data"
    }
   ],
   "source": [
    "plt.plot(Data['Temp'], Data['Sales'], 'o')\n",
    "plt.plot(Data['InteriorPrice'], Data['Sales'], 'o')\n",
    "plt.plot(Data['Temp'], model.predict(InputFeature))\n",
    "plt.show()"
   ]
  },
  {
   "cell_type": "markdown",
   "id": "9b342536",
   "metadata": {},
   "source": [
    "Linear model을 만든다 = 해석하고자하는 모델을 만든다(Prediction을 잘할 것이라 생각하면 안됨)<br>\n",
    "전체를 가지고 모델을 만든다 = X전체가 들어왔을때 Y를 예측<br>\n",
    "-> 이결과가 진짜로 해석이 적절하냐?<br>\n",
    "\n",
    "유의했던 변수만 남겨놓고 새롭게 모델을 만드는 경우<br>\n",
    "-> 더 좋은 모델을 만들고자 하는 것이 아니라,(이건 아닐 수 있지만)<br>\n",
    "-> 해석에 방해되는 변수를 제외하고 해석을 위하여 유의한 변수만 쓴 것. (해석을 위해서는 이렇게 하기도 함)"
   ]
  },
  {
   "cell_type": "code",
   "execution_count": null,
   "id": "307f8740",
   "metadata": {},
   "outputs": [],
   "source": []
  },
  {
   "cell_type": "code",
   "execution_count": null,
   "id": "914fd8d2",
   "metadata": {},
   "outputs": [],
   "source": []
  }
 ],
 "metadata": {
  "kernelspec": {
   "display_name": "Python 3 (ipykernel)",
   "language": "python",
   "name": "python3"
  },
  "language_info": {
   "codemirror_mode": {
    "name": "ipython",
    "version": 3
   },
   "file_extension": ".py",
   "mimetype": "text/x-python",
   "name": "python",
   "nbconvert_exporter": "python",
   "pygments_lexer": "ipython3",
   "version": "3.9.7"
  }
 },
 "nbformat": 4,
 "nbformat_minor": 5
}
