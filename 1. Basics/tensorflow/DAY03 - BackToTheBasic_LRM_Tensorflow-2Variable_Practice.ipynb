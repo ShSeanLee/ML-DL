{
 "cells": [
  {
   "cell_type": "markdown",
   "id": "9e5c4c65",
   "metadata": {},
   "source": [
    "!pip3 install pandas<br>\n",
    "!pip3 install numpy<br>\n",
    "!pip3 install matplotlib<br>\n",
    "!pip3 install statsmodels<br>"
   ]
  },
  {
   "cell_type": "code",
   "execution_count": 1,
   "id": "ac596566",
   "metadata": {},
   "outputs": [],
   "source": [
    "import tensorflow as tf\n",
    "import pandas as pd\n",
    "import numpy as np\n",
    "import matplotlib.pyplot as plt\n",
    "import statsmodels.api as sm\n",
    "\n",
    "from tensorflow.keras.models import Sequential, load_model\n",
    "from tensorflow.keras.layers import Dense\n",
    "from tensorflow.keras.optimizers import SGD, Adam"
   ]
  },
  {
   "cell_type": "markdown",
   "id": "b3a9b526",
   "metadata": {},
   "source": [
    "연속형 임의의 데이터 생성"
   ]
  },
  {
   "cell_type": "code",
   "execution_count": 2,
   "id": "2f066d8a",
   "metadata": {},
   "outputs": [],
   "source": [
    "np.random.seed(0)\n",
    "\n",
    "Temperature = np.random.normal(30,3,100)\n",
    "IceAmericano = Temperature + np.random.normal(100,8,100)\n",
    "InteriorPrice = np.random.normal(60,20,100)"
   ]
  },
  {
   "cell_type": "markdown",
   "id": "569500e2",
   "metadata": {},
   "source": [
    "데이터 프레임 형태로 2개 데이터 합치기<br>"
   ]
  },
  {
   "cell_type": "code",
   "execution_count": 3,
   "id": "db19541d",
   "metadata": {},
   "outputs": [],
   "source": [
    "Data = pd.DataFrame({\n",
    "    'Temp':Temperature,\n",
    "    'Sales':IceAmericano,\n",
    "    'InteriorPrice':InteriorPrice\n",
    "})"
   ]
  },
  {
   "cell_type": "code",
   "execution_count": 4,
   "id": "39dc99ac",
   "metadata": {},
   "outputs": [
    {
     "data": {
      "text/html": [
       "<div>\n",
       "<style scoped>\n",
       "    .dataframe tbody tr th:only-of-type {\n",
       "        vertical-align: middle;\n",
       "    }\n",
       "\n",
       "    .dataframe tbody tr th {\n",
       "        vertical-align: top;\n",
       "    }\n",
       "\n",
       "    .dataframe thead th {\n",
       "        text-align: right;\n",
       "    }\n",
       "</style>\n",
       "<table border=\"1\" class=\"dataframe\">\n",
       "  <thead>\n",
       "    <tr style=\"text-align: right;\">\n",
       "      <th></th>\n",
       "      <th>Temp</th>\n",
       "      <th>Sales</th>\n",
       "      <th>InteriorPrice</th>\n",
       "    </tr>\n",
       "  </thead>\n",
       "  <tbody>\n",
       "    <tr>\n",
       "      <th>count</th>\n",
       "      <td>100.000000</td>\n",
       "      <td>100.000000</td>\n",
       "      <td>100.000000</td>\n",
       "    </tr>\n",
       "    <tr>\n",
       "      <th>mean</th>\n",
       "      <td>30.179424</td>\n",
       "      <td>130.835528</td>\n",
       "      <td>58.815355</td>\n",
       "    </tr>\n",
       "    <tr>\n",
       "      <th>std</th>\n",
       "      <td>3.038879</td>\n",
       "      <td>9.170076</td>\n",
       "      <td>19.135973</td>\n",
       "    </tr>\n",
       "    <tr>\n",
       "      <th>min</th>\n",
       "      <td>22.341031</td>\n",
       "      <td>107.604044</td>\n",
       "      <td>4.548145</td>\n",
       "    </tr>\n",
       "    <tr>\n",
       "      <th>25%</th>\n",
       "      <td>28.068430</td>\n",
       "      <td>123.580449</td>\n",
       "      <td>48.068709</td>\n",
       "    </tr>\n",
       "    <tr>\n",
       "      <th>50%</th>\n",
       "      <td>30.282288</td>\n",
       "      <td>129.709430</td>\n",
       "      <td>58.492823</td>\n",
       "    </tr>\n",
       "    <tr>\n",
       "      <th>75%</th>\n",
       "      <td>32.211232</td>\n",
       "      <td>138.323847</td>\n",
       "      <td>70.773134</td>\n",
       "    </tr>\n",
       "    <tr>\n",
       "      <th>max</th>\n",
       "      <td>36.809264</td>\n",
       "      <td>150.357363</td>\n",
       "      <td>106.078334</td>\n",
       "    </tr>\n",
       "  </tbody>\n",
       "</table>\n",
       "</div>"
      ],
      "text/plain": [
       "             Temp       Sales  InteriorPrice\n",
       "count  100.000000  100.000000     100.000000\n",
       "mean    30.179424  130.835528      58.815355\n",
       "std      3.038879    9.170076      19.135973\n",
       "min     22.341031  107.604044       4.548145\n",
       "25%     28.068430  123.580449      48.068709\n",
       "50%     30.282288  129.709430      58.492823\n",
       "75%     32.211232  138.323847      70.773134\n",
       "max     36.809264  150.357363     106.078334"
      ]
     },
     "execution_count": 4,
     "metadata": {},
     "output_type": "execute_result"
    }
   ],
   "source": [
    "Data.describe()"
   ]
  },
  {
   "cell_type": "code",
   "execution_count": 10,
   "id": "bab9c9f7",
   "metadata": {},
   "outputs": [
    {
     "data": {
      "image/png": "[encoded data removed]",
      "text/plain": [
       "<Figure size 432x288 with 1 Axes>"
      ]
     },
     "metadata": {
      "needs_background": "light"
     },
     "output_type": "display_data"
    }
   ],
   "source": [
    "plt.plot(Data['Temp'], Data['Sales'], 'o')\n",
    "plt.plot(Data['InteriorPrice'], Data['Sales'], 'o')\n",
    "plt.show()"
   ]
  },
  {
   "cell_type": "markdown",
   "id": "d3aa1d78",
   "metadata": {},
   "source": [
    "선형회귀 모델, 딥러닝 framework (keras)로 만들기"
   ]
  },
  {
   "cell_type": "code",
   "execution_count": 39,
   "id": "f2722f6c",
   "metadata": {},
   "outputs": [],
   "source": [
    "model = Sequential()\n",
    "model.add(Dense(5, activation = 'linear', input_shape = (2,)))\n",
    "model.add(Dense(5, activation = 'linear'))\n",
    "model.add(Dense(1, activation = 'linear'))\n",
    "\n",
    "model.compile(loss='mse',optimizer=Adam(learning_rate=0.5))"
   ]
  },
  {
   "cell_type": "code",
   "execution_count": 45,
   "id": "f23d47fc",
   "metadata": {},
   "outputs": [
    {
     "name": "stdout",
     "output_type": "stream",
     "text": [
      "Model: \"sequential_5\"\n",
      "_________________________________________________________________\n",
      " Layer (type)                Output Shape              Param #   \n",
      "=================================================================\n",
      " dense_15 (Dense)            (None, 5)                 15        \n",
      "                                                                 \n",
      " dense_16 (Dense)            (None, 5)                 30        \n",
      "                                                                 \n",
      " dense_17 (Dense)            (None, 1)                 6         \n",
      "                                                                 \n",
      "=================================================================\n",
      "Total params: 51\n",
      "Trainable params: 51\n",
      "Non-trainable params: 0\n",
      "_________________________________________________________________\n"
     ]
    }
   ],
   "source": [
    "model.summary()"
   ]
  },
  {
   "cell_type": "code",
   "execution_count": 42,
   "id": "09481a16",
   "metadata": {},
   "outputs": [],
   "source": [
    "Train_x = Data[['Temp', 'InteriorPrice']]\n",
    "Train_y = Data[['Sales']]"
   ]
  },
  {
   "cell_type": "code",
   "execution_count": 43,
   "id": "18dae18d",
   "metadata": {},
   "outputs": [
    {
     "name": "stdout",
     "output_type": "stream",
     "text": [
      "Epoch 1/50\n",
      "4/4 [==============================] - 0s 1ms/step - loss: 186449.2188\n",
      "Epoch 2/50\n",
      "4/4 [==============================] - 0s 1ms/step - loss: 35761.4219\n",
      "Epoch 3/50\n",
      "4/4 [==============================] - 0s 2ms/step - loss: 83841.5469\n",
      "Epoch 4/50\n",
      "4/4 [==============================] - 0s 2ms/step - loss: 41853.0547\n",
      "Epoch 5/50\n",
      "4/4 [==============================] - 0s 2ms/step - loss: 20598.2949\n",
      "Epoch 6/50\n",
      "4/4 [==============================] - 0s 1ms/step - loss: 4397.7505\n",
      "Epoch 7/50\n",
      "4/4 [==============================] - 0s 2ms/step - loss: 3351.6743\n",
      "Epoch 8/50\n",
      "4/4 [==============================] - 0s 2ms/step - loss: 8213.0039\n",
      "Epoch 9/50\n",
      "4/4 [==============================] - 0s 1ms/step - loss: 3954.7095\n",
      "Epoch 10/50\n",
      "4/4 [==============================] - 0s 2ms/step - loss: 1085.8673\n",
      "Epoch 11/50\n",
      "4/4 [==============================] - 0s 1ms/step - loss: 2356.3396\n",
      "Epoch 12/50\n",
      "4/4 [==============================] - 0s 1ms/step - loss: 788.1568\n",
      "Epoch 13/50\n",
      "4/4 [==============================] - 0s 2ms/step - loss: 398.0381\n",
      "Epoch 14/50\n",
      "4/4 [==============================] - 0s 2ms/step - loss: 738.3118\n",
      "Epoch 15/50\n",
      "4/4 [==============================] - 0s 1ms/step - loss: 219.0401\n",
      "Epoch 16/50\n",
      "4/4 [==============================] - 0s 1ms/step - loss: 282.9111\n",
      "Epoch 17/50\n",
      "4/4 [==============================] - 0s 2ms/step - loss: 377.0480\n",
      "Epoch 18/50\n",
      "4/4 [==============================] - 0s 2ms/step - loss: 180.6473\n",
      "Epoch 19/50\n",
      "4/4 [==============================] - 0s 1ms/step - loss: 271.5434\n",
      "Epoch 20/50\n",
      "4/4 [==============================] - 0s 1ms/step - loss: 201.6926\n",
      "Epoch 21/50\n",
      "4/4 [==============================] - 0s 2ms/step - loss: 167.1343\n",
      "Epoch 22/50\n",
      "4/4 [==============================] - 0s 2ms/step - loss: 196.7536\n",
      "Epoch 23/50\n",
      "4/4 [==============================] - 0s 1ms/step - loss: 137.2814\n",
      "Epoch 24/50\n",
      "4/4 [==============================] - 0s 2ms/step - loss: 181.2285\n",
      "Epoch 25/50\n",
      "4/4 [==============================] - 0s 1ms/step - loss: 132.9837\n",
      "Epoch 26/50\n",
      "4/4 [==============================] - 0s 1ms/step - loss: 135.0579\n",
      "Epoch 27/50\n",
      "4/4 [==============================] - 0s 2ms/step - loss: 134.7437\n",
      "Epoch 28/50\n",
      "4/4 [==============================] - 0s 2ms/step - loss: 143.9272\n",
      "Epoch 29/50\n",
      "4/4 [==============================] - 0s 2ms/step - loss: 137.4585\n",
      "Epoch 30/50\n",
      "4/4 [==============================] - 0s 2ms/step - loss: 141.2553\n",
      "Epoch 31/50\n",
      "4/4 [==============================] - 0s 2ms/step - loss: 169.7654\n",
      "Epoch 32/50\n",
      "4/4 [==============================] - 0s 3ms/step - loss: 186.1228\n",
      "Epoch 33/50\n",
      "4/4 [==============================] - 0s 2ms/step - loss: 155.0254\n",
      "Epoch 34/50\n",
      "4/4 [==============================] - 0s 2ms/step - loss: 146.3347\n",
      "Epoch 35/50\n",
      "4/4 [==============================] - 0s 2ms/step - loss: 154.2295\n",
      "Epoch 36/50\n",
      "4/4 [==============================] - 0s 2ms/step - loss: 131.1214\n",
      "Epoch 37/50\n",
      "4/4 [==============================] - 0s 2ms/step - loss: 134.8138\n",
      "Epoch 38/50\n",
      "4/4 [==============================] - 0s 2ms/step - loss: 128.7525\n",
      "Epoch 39/50\n",
      "4/4 [==============================] - 0s 2ms/step - loss: 151.0266\n",
      "Epoch 40/50\n",
      "4/4 [==============================] - 0s 3ms/step - loss: 132.4958\n",
      "Epoch 41/50\n",
      "4/4 [==============================] - 0s 2ms/step - loss: 136.8505\n",
      "Epoch 42/50\n",
      "4/4 [==============================] - 0s 2ms/step - loss: 131.9386\n",
      "Epoch 43/50\n",
      "4/4 [==============================] - 0s 2ms/step - loss: 137.0556\n",
      "Epoch 44/50\n",
      "4/4 [==============================] - 0s 1ms/step - loss: 161.0571\n",
      "Epoch 45/50\n",
      "4/4 [==============================] - 0s 2ms/step - loss: 191.5521\n",
      "Epoch 46/50\n",
      "4/4 [==============================] - 0s 2ms/step - loss: 162.1471\n",
      "Epoch 47/50\n",
      "4/4 [==============================] - 0s 2ms/step - loss: 153.5248\n",
      "Epoch 48/50\n",
      "4/4 [==============================] - 0s 1ms/step - loss: 136.8771\n",
      "Epoch 49/50\n",
      "4/4 [==============================] - 0s 2ms/step - loss: 190.7263\n",
      "Epoch 50/50\n",
      "4/4 [==============================] - 0s 1ms/step - loss: 137.8788\n"
     ]
    }
   ],
   "source": [
    "hist = model.fit(x = Train_x, y = Train_y, epochs=50, shuffle=True)"
   ]
  },
  {
   "cell_type": "code",
   "execution_count": 44,
   "id": "dda2d344",
   "metadata": {
    "scrolled": true
   },
   "outputs": [
    {
     "data": {
      "image/png": "[encoded data removed]",
      "text/plain": [
       "<Figure size 432x288 with 1 Axes>"
      ]
     },
     "metadata": {
      "needs_background": "light"
     },
     "output_type": "display_data"
    }
   ],
   "source": [
    "plt.plot(Data['Sales'], model.predict(Data[['Temp', 'InteriorPrice']]), 'o')\n",
    "plt.show()"
   ]
  },
  {
   "cell_type": "code",
   "execution_count": 54,
   "id": "4018ad91",
   "metadata": {},
   "outputs": [],
   "source": [
    "pred = model.predict(Data[['Temp', 'InteriorPrice']]).reshape(100,)\n"
   ]
  },
  {
   "cell_type": "code",
   "execution_count": 56,
   "id": "b21117ee",
   "metadata": {},
   "outputs": [
    {
     "data": {
      "text/html": [
       "<div>\n",
       "<style scoped>\n",
       "    .dataframe tbody tr th:only-of-type {\n",
       "        vertical-align: middle;\n",
       "    }\n",
       "\n",
       "    .dataframe tbody tr th {\n",
       "        vertical-align: top;\n",
       "    }\n",
       "\n",
       "    .dataframe thead th {\n",
       "        text-align: right;\n",
       "    }\n",
       "</style>\n",
       "<table border=\"1\" class=\"dataframe\">\n",
       "  <thead>\n",
       "    <tr style=\"text-align: right;\">\n",
       "      <th></th>\n",
       "      <th>Label</th>\n",
       "      <th>Pred</th>\n",
       "    </tr>\n",
       "  </thead>\n",
       "  <tbody>\n",
       "    <tr>\n",
       "      <th>Label</th>\n",
       "      <td>1.000000</td>\n",
       "      <td>0.434724</td>\n",
       "    </tr>\n",
       "    <tr>\n",
       "      <th>Pred</th>\n",
       "      <td>0.434724</td>\n",
       "      <td>1.000000</td>\n",
       "    </tr>\n",
       "  </tbody>\n",
       "</table>\n",
       "</div>"
      ],
      "text/plain": [
       "          Label      Pred\n",
       "Label  1.000000  0.434724\n",
       "Pred   0.434724  1.000000"
      ]
     },
     "execution_count": 56,
     "metadata": {},
     "output_type": "execute_result"
    }
   ],
   "source": [
    "pd.DataFrame({'Label':Data['Sales'], 'Pred':pred}).corr()"
   ]
  },
  {
   "cell_type": "code",
   "execution_count": null,
   "id": "55b9626e",
   "metadata": {},
   "outputs": [],
   "source": []
  }
 ],
 "metadata": {
  "kernelspec": {
   "display_name": "Python 3 (ipykernel)",
   "language": "python",
   "name": "python3"
  },
  "language_info": {
   "codemirror_mode": {
    "name": "ipython",
    "version": 3
   },
   "file_extension": ".py",
   "mimetype": "text/x-python",
   "name": "python",
   "nbconvert_exporter": "python",
   "pygments_lexer": "ipython3",
   "version": "3.9.7"
  }
 },
 "nbformat": 4,
 "nbformat_minor": 5
}
